{
  "nbformat": 4,
  "nbformat_minor": 0,
  "metadata": {
    "colab": {
      "name": "01_prawdopodobienstwo_statystyka.ipynb",
      "provenance": [],
      "authorship_tag": "ABX9TyPSvLNC8jWtCMuZifJEj1tg",
      "include_colab_link": true
    },
    "kernelspec": {
      "name": "python3",
      "display_name": "Python 3"
    }
  },
  "cells": [
    {
      "cell_type": "markdown",
      "metadata": {
        "id": "view-in-github",
        "colab_type": "text"
      },
      "source": [
        "<a href=\"https://colab.research.google.com/github/nefetorve/big_data/blob/master/05_podstawy_statystyki/01_prawdopodobienstwo_statystyka.ipynb\" target=\"_parent\"><img src=\"https://colab.research.google.com/assets/colab-badge.svg\" alt=\"Open In Colab\"/></a>"
      ]
    },
    {
      "cell_type": "code",
      "metadata": {
        "id": "ZdFqgtTlX_X0",
        "colab_type": "code",
        "colab": {
          "base_uri": "https://localhost:8080/",
          "height": 35
        },
        "outputId": "1f9062ee-93c5-4975-9840-893225bd8f0d"
      },
      "source": [
        "import numpy as np\n",
        "\n",
        "X = np.array([3,4.5,5,4.5,3])\n",
        "print(X)"
      ],
      "execution_count": 11,
      "outputs": [
        {
          "output_type": "stream",
          "text": [
            "[3.  4.5 5.  4.5 3. ]\n"
          ],
          "name": "stdout"
        }
      ]
    },
    {
      "cell_type": "code",
      "metadata": {
        "id": "bgWIiNiNZSVV",
        "colab_type": "code",
        "colab": {
          "base_uri": "https://localhost:8080/",
          "height": 35
        },
        "outputId": "d998d35c-fdeb-416b-809f-65f938d99e7f"
      },
      "source": [
        "X.mean()"
      ],
      "execution_count": 12,
      "outputs": [
        {
          "output_type": "execute_result",
          "data": {
            "text/plain": [
              "4.0"
            ]
          },
          "metadata": {
            "tags": []
          },
          "execution_count": 12
        }
      ]
    },
    {
      "cell_type": "code",
      "metadata": {
        "id": "C3Vp6nsAZxDN",
        "colab_type": "code",
        "colab": {
          "base_uri": "https://localhost:8080/",
          "height": 35
        },
        "outputId": "cd60ec88-b995-441f-c6b0-7b20f4bb01d9"
      },
      "source": [
        "np.median(X)"
      ],
      "execution_count": 13,
      "outputs": [
        {
          "output_type": "execute_result",
          "data": {
            "text/plain": [
              "4.5"
            ]
          },
          "metadata": {
            "tags": []
          },
          "execution_count": 13
        }
      ]
    },
    {
      "cell_type": "code",
      "metadata": {
        "id": "1b7KvU4CYunA",
        "colab_type": "code",
        "colab": {
          "base_uri": "https://localhost:8080/",
          "height": 35
        },
        "outputId": "fe535dd6-8a16-4b4b-e944-7dd84e61dfed"
      },
      "source": [
        "X = np.array([185.,179.5,168.,192.,185.5])\n",
        "print(X)"
      ],
      "execution_count": 14,
      "outputs": [
        {
          "output_type": "stream",
          "text": [
            "[185.  179.5 168.  192.  185.5]\n"
          ],
          "name": "stdout"
        }
      ]
    },
    {
      "cell_type": "code",
      "metadata": {
        "id": "57Ni616fZCmE",
        "colab_type": "code",
        "colab": {
          "base_uri": "https://localhost:8080/",
          "height": 35
        },
        "outputId": "9d102110-1f39-4fa3-b356-a3558b76b3ff"
      },
      "source": [
        "X.mean()"
      ],
      "execution_count": 15,
      "outputs": [
        {
          "output_type": "execute_result",
          "data": {
            "text/plain": [
              "182.0"
            ]
          },
          "metadata": {
            "tags": []
          },
          "execution_count": 15
        }
      ]
    },
    {
      "cell_type": "code",
      "metadata": {
        "id": "iDjQI-PSZU4U",
        "colab_type": "code",
        "colab": {
          "base_uri": "https://localhost:8080/",
          "height": 54
        },
        "outputId": "80e45b41-7eb6-4eba-89ba-e3ac8e716856"
      },
      "source": [
        "X = [3.5,4.0,4.0]\n",
        "Y = [2.0,4.0,5.0]\n",
        "\n",
        "X_mean = np.mean(X)\n",
        "Y_mean = np.mean(Y)\n",
        "\n",
        "print(f'X_mean: {X_mean:.4f}')\n",
        "print(f'Y_mean: {Y_mean:.4f}')"
      ],
      "execution_count": 16,
      "outputs": [
        {
          "output_type": "stream",
          "text": [
            "X_mean: 3.8333\n",
            "Y_mean: 3.6667\n"
          ],
          "name": "stdout"
        }
      ]
    },
    {
      "cell_type": "code",
      "metadata": {
        "id": "FQUWWIqTavJJ",
        "colab_type": "code",
        "colab": {
          "base_uri": "https://localhost:8080/",
          "height": 54
        },
        "outputId": "9ed513b1-2df7-4db7-bd23-aa9674c40a85"
      },
      "source": [
        "b_X = 1/len(X) * (abs(X - X_mean).sum())\n",
        "b_Y = 1/len(Y) * (abs(Y - Y_mean).sum())\n",
        "\n",
        "print(f'Średni błąd X: {b_X:.4f}')\n",
        "print(f'Średni błąd Y: {b_Y:.4f}')"
      ],
      "execution_count": 17,
      "outputs": [
        {
          "output_type": "stream",
          "text": [
            "Średni błąd X: 0.2222\n",
            "Średni błąd Y: 1.1111\n"
          ],
          "name": "stdout"
        }
      ]
    },
    {
      "cell_type": "markdown",
      "metadata": {
        "id": "mDfUzQaLbTCs",
        "colab_type": "text"
      },
      "source": [
        "Wariancja"
      ]
    },
    {
      "cell_type": "code",
      "metadata": {
        "id": "SYXwWdzxbUgF",
        "colab_type": "code",
        "colab": {
          "base_uri": "https://localhost:8080/",
          "height": 108
        },
        "outputId": "cd9b6523-907c-4dbe-a09f-b3efa79b4e35"
      },
      "source": [
        "var_X = 1/len(X) * ((X - X_mean)**2).sum()\n",
        "var_Y = 1/len(Y) * ((Y - Y_mean)**2).sum()\n",
        "\n",
        "print(f'Wariancja dla zmiennej X: {var_X:.4f}')\n",
        "print(f'Wariancja dla zmiennej Y: {var_Y:.4f}\\n')\n",
        "\n",
        "std_X = np.sqrt(var_X)\n",
        "std_Y = np.sqrt(var_Y)\n",
        "\n",
        "print(f'Odchylenie standardowe dla zmiennej X: {std_X:.4f}')\n",
        "print(f'Odchylenie standardowe dla zmiennej Y: {std_Y:.4f}')\n"
      ],
      "execution_count": 20,
      "outputs": [
        {
          "output_type": "stream",
          "text": [
            "Wariancja dla zmiennej X: 0.0556\n",
            "Wariancja dla zmiennej Y: 1.5556\n",
            "\n",
            "Odchylenie standardowe dla zmiennej X: 0.2357\n",
            "Odchylenie standardowe dla zmiennej Y: 1.2472\n"
          ],
          "name": "stdout"
        }
      ]
    },
    {
      "cell_type": "code",
      "metadata": {
        "id": "S13rEwqvbk2R",
        "colab_type": "code",
        "colab": {
          "base_uri": "https://localhost:8080/",
          "height": 54
        },
        "outputId": "65b77327-c996-432f-bbad-24a7b2890210"
      },
      "source": [
        "print(np.std(X))\n",
        "print(np.std(Y))\n"
      ],
      "execution_count": 21,
      "outputs": [
        {
          "output_type": "stream",
          "text": [
            "0.23570226039551584\n",
            "1.247219128924647\n"
          ],
          "name": "stdout"
        }
      ]
    },
    {
      "cell_type": "markdown",
      "metadata": {
        "id": "m9DvwMx2joKE",
        "colab_type": "text"
      },
      "source": [
        "Przestrzeń klasyczna"
      ]
    },
    {
      "cell_type": "code",
      "metadata": {
        "id": "P-6s0DY1cNJY",
        "colab_type": "code",
        "colab": {
          "base_uri": "https://localhost:8080/",
          "height": 54
        },
        "outputId": "13808c58-2a6b-4cdf-ab08-a28feddcd0ae"
      },
      "source": [
        "omega = {1,2,3,4,5,6}\n",
        "A = {item for item in omega if item % 2 == 0}\n",
        "\n",
        "P_A = len(A)/len(omega)\n",
        "print(f'Zbiór A: {A}')\n",
        "print(f'P(A): {P_A}')"
      ],
      "execution_count": 24,
      "outputs": [
        {
          "output_type": "stream",
          "text": [
            "Zbiór A: {2, 4, 6}\n",
            "P(A): 0.5\n"
          ],
          "name": "stdout"
        }
      ]
    },
    {
      "cell_type": "code",
      "metadata": {
        "id": "HKLtf9vtli8c",
        "colab_type": "code",
        "colab": {
          "base_uri": "https://localhost:8080/",
          "height": 35
        },
        "outputId": "d8177cc7-13bb-4c64-c18c-9f64a53865ae"
      },
      "source": [
        "B = {item for item in omega if item > 4}\n",
        "P_B = len(B) /len(omega)\n",
        "P_B"
      ],
      "execution_count": 26,
      "outputs": [
        {
          "output_type": "execute_result",
          "data": {
            "text/plain": [
              "0.3333333333333333"
            ]
          },
          "metadata": {
            "tags": []
          },
          "execution_count": 26
        }
      ]
    },
    {
      "cell_type": "markdown",
      "metadata": {
        "id": "OMqOdr-Pl4Ze",
        "colab_type": "text"
      },
      "source": [
        "Niezależność zdarzeń"
      ]
    },
    {
      "cell_type": "code",
      "metadata": {
        "id": "raSfPJZkly_W",
        "colab_type": "code",
        "colab": {}
      },
      "source": [
        "Intersection_AB = set.intersection(A,B)\n",
        "P_intersection_AB = len(Intersection_AB)/len(omega)\n",
        "PA_PB = P_A * P_B"
      ],
      "execution_count": 27,
      "outputs": []
    },
    {
      "cell_type": "code",
      "metadata": {
        "id": "ZdH0o1RDmH8p",
        "colab_type": "code",
        "colab": {
          "base_uri": "https://localhost:8080/",
          "height": 90
        },
        "outputId": "b09fcce1-d770-43b9-83ba-b0d6ed93db2e"
      },
      "source": [
        "print(f'Przecięcie zbiorów AB: {Intersection_AB}')\n",
        "print(f'Iloczyn prawdopodobieństwa: {PA_PB}')\n",
        "print(f'prawdopodobieństwa iloczynu zdarzeń: {P_intersection_AB}')\n",
        "\n",
        "check = 'zdarzenie niezalezne' if PA_PB == P_intersection_AB else 'Zdarzenie zalezne'\n",
        "print(check)"
      ],
      "execution_count": 28,
      "outputs": [
        {
          "output_type": "stream",
          "text": [
            "Przecięcie zbiorów AB: {6}\n",
            "Iloczyn prawdopodobieństwa: 0.16666666666666666\n",
            "prawdopodobieństwa iloczynu zdarzeń: 0.16666666666666666\n",
            "zdarzenie niezalezne\n"
          ],
          "name": "stdout"
        }
      ]
    },
    {
      "cell_type": "markdown",
      "metadata": {
        "id": "8jPTWTyMnJLw",
        "colab_type": "text"
      },
      "source": [
        "Prawdopodobieństwo warunkowe"
      ]
    },
    {
      "cell_type": "code",
      "metadata": {
        "id": "PCRbFH5-mfV8",
        "colab_type": "code",
        "colab": {}
      },
      "source": [
        ""
      ],
      "execution_count": null,
      "outputs": []
    }
  ]
}