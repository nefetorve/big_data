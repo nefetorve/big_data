{
  "nbformat": 4,
  "nbformat_minor": 0,
  "metadata": {
    "colab": {
      "name": "05.regresja_wielomianowa.ipynb",
      "provenance": [],
      "authorship_tag": "ABX9TyOtEm29Ztx/MIb9Co16vyCd",
      "include_colab_link": true
    },
    "kernelspec": {
      "name": "python3",
      "display_name": "Python 3"
    }
  },
  "cells": [
    {
      "cell_type": "markdown",
      "metadata": {
        "id": "view-in-github",
        "colab_type": "text"
      },
      "source": [
        "<a href=\"https://colab.research.google.com/github/nefetorve/big_data/blob/master/06_uczenie_maszynowe/05_regresja_wielomianowa.ipynb\" target=\"_parent\"><img src=\"https://colab.research.google.com/assets/colab-badge.svg\" alt=\"Open In Colab\"/></a>"
      ]
    },
    {
      "cell_type": "code",
      "metadata": {
        "id": "aJmE9BsXga4J",
        "colab_type": "code",
        "colab": {}
      },
      "source": [
        "import sklearn"
      ],
      "execution_count": 2,
      "outputs": []
    },
    {
      "cell_type": "code",
      "metadata": {
        "id": "yIUVTHNrggqi",
        "colab_type": "code",
        "colab": {
          "base_uri": "https://localhost:8080/",
          "height": 322
        },
        "outputId": "d3f447b5-955c-4e44-ff54-c1b344f8b743"
      },
      "source": [
        "import numpy as np \n",
        "import matplotlib.pyplot as plt\n",
        "import seaborn as sns\n",
        "\n",
        "sns.set()\n",
        "\n",
        "np.random.seed(0)\n",
        "X = np.arange(-10,10,0.5)\n",
        "noise = 80 * np.random.randn(40)\n",
        "y = -X**3 + 10*X**2 - 2*X + 3 + noise\n",
        "X = X.reshape(40,1)\n",
        "_ = plt.scatter(X,y)"
      ],
      "execution_count": 3,
      "outputs": [
        {
          "output_type": "stream",
          "text": [
            "/usr/local/lib/python3.6/dist-packages/statsmodels/tools/_testing.py:19: FutureWarning: pandas.util.testing is deprecated. Use the functions in the public API at pandas.testing instead.\n",
            "  import pandas.util.testing as tm\n"
          ],
          "name": "stderr"
        },
        {
          "output_type": "display_data",
          "data": {
            "image/png": "[encoded data removed]",
            "text/plain": [
              "<Figure size 432x288 with 1 Axes>"
            ]
          },
          "metadata": {
            "tags": []
          }
        }
      ]
    },
    {
      "cell_type": "code",
      "metadata": {
        "id": "FLl9580OppBZ",
        "colab_type": "code",
        "colab": {
          "base_uri": "https://localhost:8080/",
          "height": 268
        },
        "outputId": "1be120c8-ff4a-4c7f-e775-c7e085516f25"
      },
      "source": [
        "from sklearn.linear_model import LinearRegression\n",
        "\n",
        "regressor = LinearRegression()\n",
        "regressor.fit(X,y)\n",
        "y_pred = regressor.predict(X)\n",
        "\n",
        "plt.scatter(X,y)\n",
        "_ = plt.plot(X,y_pred, c='red')"
      ],
      "execution_count": 7,
      "outputs": [
        {
          "output_type": "display_data",
          "data": {
            "image/png": "[encoded data removed]",
            "text/plain": [
              "<Figure size 432x288 with 1 Axes>"
            ]
          },
          "metadata": {
            "tags": []
          }
        }
      ]
    },
    {
      "cell_type": "code",
      "metadata": {
        "id": "rhOleH-Ypu23",
        "colab_type": "code",
        "colab": {
          "base_uri": "https://localhost:8080/",
          "height": 34
        },
        "outputId": "223f3812-9bad-4ec2-fb10-a26fce0534c2"
      },
      "source": [
        "from sklearn.metrics import r2_score\n",
        "r2_score(y,y_pred)"
      ],
      "execution_count": 8,
      "outputs": [
        {
          "output_type": "execute_result",
          "data": {
            "text/plain": [
              "0.5398062344255777"
            ]
          },
          "metadata": {
            "tags": []
          },
          "execution_count": 8
        }
      ]
    },
    {
      "cell_type": "code",
      "metadata": {
        "id": "UkL1SzFyqYtV",
        "colab_type": "code",
        "colab": {}
      },
      "source": [
        "from sklearn.preprocessing import PolynomialFeatures\n",
        "\n",
        "poly = PolynomialFeatures(degree=2) # wydobycie cechy wielomianowej \n"
      ],
      "execution_count": 12,
      "outputs": []
    },
    {
      "cell_type": "code",
      "metadata": {
        "id": "1kbLwXN0rRVv",
        "colab_type": "code",
        "colab": {
          "base_uri": "https://localhost:8080/",
          "height": 689
        },
        "outputId": "8f89d359-db8a-4297-9f45-6afce0678869"
      },
      "source": [
        "\n",
        "X_poly = poly.fit_transform(X)\n",
        "X_poly\n"
      ],
      "execution_count": 13,
      "outputs": [
        {
          "output_type": "execute_result",
          "data": {
            "text/plain": [
              "array([[  1.  , -10.  , 100.  ],\n",
              "       [  1.  ,  -9.5 ,  90.25],\n",
              "       [  1.  ,  -9.  ,  81.  ],\n",
              "       [  1.  ,  -8.5 ,  72.25],\n",
              "       [  1.  ,  -8.  ,  64.  ],\n",
              "       [  1.  ,  -7.5 ,  56.25],\n",
              "       [  1.  ,  -7.  ,  49.  ],\n",
              "       [  1.  ,  -6.5 ,  42.25],\n",
              "       [  1.  ,  -6.  ,  36.  ],\n",
              "       [  1.  ,  -5.5 ,  30.25],\n",
              "       [  1.  ,  -5.  ,  25.  ],\n",
              "       [  1.  ,  -4.5 ,  20.25],\n",
              "       [  1.  ,  -4.  ,  16.  ],\n",
              "       [  1.  ,  -3.5 ,  12.25],\n",
              "       [  1.  ,  -3.  ,   9.  ],\n",
              "       [  1.  ,  -2.5 ,   6.25],\n",
              "       [  1.  ,  -2.  ,   4.  ],\n",
              "       [  1.  ,  -1.5 ,   2.25],\n",
              "       [  1.  ,  -1.  ,   1.  ],\n",
              "       [  1.  ,  -0.5 ,   0.25],\n",
              "       [  1.  ,   0.  ,   0.  ],\n",
              "       [  1.  ,   0.5 ,   0.25],\n",
              "       [  1.  ,   1.  ,   1.  ],\n",
              "       [  1.  ,   1.5 ,   2.25],\n",
              "       [  1.  ,   2.  ,   4.  ],\n",
              "       [  1.  ,   2.5 ,   6.25],\n",
              "       [  1.  ,   3.  ,   9.  ],\n",
              "       [  1.  ,   3.5 ,  12.25],\n",
              "       [  1.  ,   4.  ,  16.  ],\n",
              "       [  1.  ,   4.5 ,  20.25],\n",
              "       [  1.  ,   5.  ,  25.  ],\n",
              "       [  1.  ,   5.5 ,  30.25],\n",
              "       [  1.  ,   6.  ,  36.  ],\n",
              "       [  1.  ,   6.5 ,  42.25],\n",
              "       [  1.  ,   7.  ,  49.  ],\n",
              "       [  1.  ,   7.5 ,  56.25],\n",
              "       [  1.  ,   8.  ,  64.  ],\n",
              "       [  1.  ,   8.5 ,  72.25],\n",
              "       [  1.  ,   9.  ,  81.  ],\n",
              "       [  1.  ,   9.5 ,  90.25]])"
            ]
          },
          "metadata": {
            "tags": []
          },
          "execution_count": 13
        }
      ]
    },
    {
      "cell_type": "code",
      "metadata": {
        "id": "4k92x9XDrcZw",
        "colab_type": "code",
        "colab": {
          "base_uri": "https://localhost:8080/",
          "height": 268
        },
        "outputId": "4914f794-2871-4a68-9356-50ffbf6da6e7"
      },
      "source": [
        " regressor_poly = LinearRegression()\n",
        " regressor_poly.fit(X_poly, y)\n",
        "\n",
        " y_pred = regressor_poly.predict(X_poly)\n",
        "\n",
        " plt.scatter(X,y)\n",
        " _ = plt.plot(X, y_pred, c='r')"
      ],
      "execution_count": 14,
      "outputs": [
        {
          "output_type": "display_data",
          "data": {
            "image/png": "[encoded data removed]",
            "text/plain": [
              "<Figure size 432x288 with 1 Axes>"
            ]
          },
          "metadata": {
            "tags": []
          }
        }
      ]
    },
    {
      "cell_type": "code",
      "metadata": {
        "id": "IHA2IEEE0rCW",
        "colab_type": "code",
        "colab": {
          "base_uri": "https://localhost:8080/",
          "height": 34
        },
        "outputId": "d5d5140d-4320-4692-d830-1c405131a8b1"
      },
      "source": [
        "r2_score(y, y_pred)"
      ],
      "execution_count": 15,
      "outputs": [
        {
          "output_type": "execute_result",
          "data": {
            "text/plain": [
              "0.9000601519884677"
            ]
          },
          "metadata": {
            "tags": []
          },
          "execution_count": 15
        }
      ]
    },
    {
      "cell_type": "code",
      "metadata": {
        "id": "hHKZZYWs1KPY",
        "colab_type": "code",
        "colab": {
          "base_uri": "https://localhost:8080/",
          "height": 689
        },
        "outputId": "1f51170d-e4ca-47d3-b0a5-5afe1708f06c"
      },
      "source": [
        "np.set_printoptions(suppress=True)\n",
        "\n",
        "poly = PolynomialFeatures(degree=3) # wydobycie cechy wielomianowej \n",
        "X_poly = poly.fit_transform(X)\n",
        "X_poly\n"
      ],
      "execution_count": 16,
      "outputs": [
        {
          "output_type": "execute_result",
          "data": {
            "text/plain": [
              "array([[    1.   ,   -10.   ,   100.   , -1000.   ],\n",
              "       [    1.   ,    -9.5  ,    90.25 ,  -857.375],\n",
              "       [    1.   ,    -9.   ,    81.   ,  -729.   ],\n",
              "       [    1.   ,    -8.5  ,    72.25 ,  -614.125],\n",
              "       [    1.   ,    -8.   ,    64.   ,  -512.   ],\n",
              "       [    1.   ,    -7.5  ,    56.25 ,  -421.875],\n",
              "       [    1.   ,    -7.   ,    49.   ,  -343.   ],\n",
              "       [    1.   ,    -6.5  ,    42.25 ,  -274.625],\n",
              "       [    1.   ,    -6.   ,    36.   ,  -216.   ],\n",
              "       [    1.   ,    -5.5  ,    30.25 ,  -166.375],\n",
              "       [    1.   ,    -5.   ,    25.   ,  -125.   ],\n",
              "       [    1.   ,    -4.5  ,    20.25 ,   -91.125],\n",
              "       [    1.   ,    -4.   ,    16.   ,   -64.   ],\n",
              "       [    1.   ,    -3.5  ,    12.25 ,   -42.875],\n",
              "       [    1.   ,    -3.   ,     9.   ,   -27.   ],\n",
              "       [    1.   ,    -2.5  ,     6.25 ,   -15.625],\n",
              "       [    1.   ,    -2.   ,     4.   ,    -8.   ],\n",
              "       [    1.   ,    -1.5  ,     2.25 ,    -3.375],\n",
              "       [    1.   ,    -1.   ,     1.   ,    -1.   ],\n",
              "       [    1.   ,    -0.5  ,     0.25 ,    -0.125],\n",
              "       [    1.   ,     0.   ,     0.   ,     0.   ],\n",
              "       [    1.   ,     0.5  ,     0.25 ,     0.125],\n",
              "       [    1.   ,     1.   ,     1.   ,     1.   ],\n",
              "       [    1.   ,     1.5  ,     2.25 ,     3.375],\n",
              "       [    1.   ,     2.   ,     4.   ,     8.   ],\n",
              "       [    1.   ,     2.5  ,     6.25 ,    15.625],\n",
              "       [    1.   ,     3.   ,     9.   ,    27.   ],\n",
              "       [    1.   ,     3.5  ,    12.25 ,    42.875],\n",
              "       [    1.   ,     4.   ,    16.   ,    64.   ],\n",
              "       [    1.   ,     4.5  ,    20.25 ,    91.125],\n",
              "       [    1.   ,     5.   ,    25.   ,   125.   ],\n",
              "       [    1.   ,     5.5  ,    30.25 ,   166.375],\n",
              "       [    1.   ,     6.   ,    36.   ,   216.   ],\n",
              "       [    1.   ,     6.5  ,    42.25 ,   274.625],\n",
              "       [    1.   ,     7.   ,    49.   ,   343.   ],\n",
              "       [    1.   ,     7.5  ,    56.25 ,   421.875],\n",
              "       [    1.   ,     8.   ,    64.   ,   512.   ],\n",
              "       [    1.   ,     8.5  ,    72.25 ,   614.125],\n",
              "       [    1.   ,     9.   ,    81.   ,   729.   ],\n",
              "       [    1.   ,     9.5  ,    90.25 ,   857.375]])"
            ]
          },
          "metadata": {
            "tags": []
          },
          "execution_count": 16
        }
      ]
    },
    {
      "cell_type": "code",
      "metadata": {
        "id": "-8wegeGy1Xt8",
        "colab_type": "code",
        "colab": {
          "base_uri": "https://localhost:8080/",
          "height": 268
        },
        "outputId": "18ce14cb-14c5-44b4-de21-bfb737ec228b"
      },
      "source": [
        "regressor_poly_3 = LinearRegression()\n",
        "regressor_poly_3.fit(X_poly, y)\n",
        "\n",
        "y_pred = regressor_poly_3.predict(X_poly)\n",
        "\n",
        "plt.scatter(X,y)\n",
        "_ =  plt.plot(X, y_pred, c='r')"
      ],
      "execution_count": 19,
      "outputs": [
        {
          "output_type": "display_data",
          "data": {
            "image/png": "[encoded data removed]",
            "text/plain": [
              "<Figure size 432x288 with 1 Axes>"
            ]
          },
          "metadata": {
            "tags": []
          }
        }
      ]
    },
    {
      "cell_type": "code",
      "metadata": {
        "id": "sTF0dLMs1p3i",
        "colab_type": "code",
        "colab": {}
      },
      "source": [
        ""
      ],
      "execution_count": null,
      "outputs": []
    }
  ]
}