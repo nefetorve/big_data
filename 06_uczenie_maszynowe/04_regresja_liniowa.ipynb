{
  "nbformat": 4,
  "nbformat_minor": 0,
  "metadata": {
    "colab": {
      "name": "04_regresja_liniowa.ipynb",
      "provenance": [],
      "authorship_tag": "ABX9TyNkFupqAfFmaiXbT2yOxpxj",
      "include_colab_link": true
    },
    "kernelspec": {
      "name": "python3",
      "display_name": "Python 3"
    }
  },
  "cells": [
    {
      "cell_type": "markdown",
      "metadata": {
        "id": "view-in-github",
        "colab_type": "text"
      },
      "source": [
        "<a href=\"https://colab.research.google.com/github/nefetorve/big_data/blob/master/06_uczenie_maszynowe/04_regresja_liniowa.ipynb\" target=\"_parent\"><img src=\"https://colab.research.google.com/assets/colab-badge.svg\" alt=\"Open In Colab\"/></a>"
      ]
    },
    {
      "cell_type": "code",
      "metadata": {
        "id": "2DnWziuhwbL5",
        "colab_type": "code",
        "colab": {}
      },
      "source": [
        "import sklearn"
      ],
      "execution_count": 1,
      "outputs": []
    },
    {
      "cell_type": "code",
      "metadata": {
        "id": "zyXKqxz6TuXo",
        "colab_type": "code",
        "colab": {
          "base_uri": "https://localhost:8080/",
          "height": 50
        },
        "outputId": "5801a346-8660-4343-ecef-467338bb050c"
      },
      "source": [
        "import numpy as np\n",
        "\n",
        "X = np.arange(0,50,0.5)\n",
        "noise = 10 * np.random.randn(100)\n",
        "y = 2 * X + 100 + noise\n",
        "\n",
        "\n"
      ],
      "execution_count": 7,
      "outputs": [
        {
          "output_type": "stream",
          "text": [
            "Rozmiar X:  (100,)\n",
            "Rozmiar y:  (100,)\n"
          ],
          "name": "stdout"
        }
      ]
    },
    {
      "cell_type": "code",
      "metadata": {
        "id": "3wugt1n5VZGa",
        "colab_type": "code",
        "colab": {
          "base_uri": "https://localhost:8080/",
          "height": 185
        },
        "outputId": "abcf3c56-af92-49b8-84d7-81983da5aa1c"
      },
      "source": [
        "X"
      ],
      "execution_count": 8,
      "outputs": [
        {
          "output_type": "execute_result",
          "data": {
            "text/plain": [
              "array([ 0. ,  0.5,  1. ,  1.5,  2. ,  2.5,  3. ,  3.5,  4. ,  4.5,  5. ,\n",
              "        5.5,  6. ,  6.5,  7. ,  7.5,  8. ,  8.5,  9. ,  9.5, 10. , 10.5,\n",
              "       11. , 11.5, 12. , 12.5, 13. , 13.5, 14. , 14.5, 15. , 15.5, 16. ,\n",
              "       16.5, 17. , 17.5, 18. , 18.5, 19. , 19.5, 20. , 20.5, 21. , 21.5,\n",
              "       22. , 22.5, 23. , 23.5, 24. , 24.5, 25. , 25.5, 26. , 26.5, 27. ,\n",
              "       27.5, 28. , 28.5, 29. , 29.5, 30. , 30.5, 31. , 31.5, 32. , 32.5,\n",
              "       33. , 33.5, 34. , 34.5, 35. , 35.5, 36. , 36.5, 37. , 37.5, 38. ,\n",
              "       38.5, 39. , 39.5, 40. , 40.5, 41. , 41.5, 42. , 42.5, 43. , 43.5,\n",
              "       44. , 44.5, 45. , 45.5, 46. , 46.5, 47. , 47.5, 48. , 48.5, 49. ,\n",
              "       49.5])"
            ]
          },
          "metadata": {
            "tags": []
          },
          "execution_count": 8
        }
      ]
    },
    {
      "cell_type": "code",
      "metadata": {
        "id": "x_pTve3jVjjZ",
        "colab_type": "code",
        "colab": {}
      },
      "source": [
        "X = X.reshape(-1,1)"
      ],
      "execution_count": 14,
      "outputs": []
    },
    {
      "cell_type": "code",
      "metadata": {
        "id": "pZzZ_UypVpzw",
        "colab_type": "code",
        "colab": {
          "base_uri": "https://localhost:8080/",
          "height": 1000
        },
        "outputId": "47980234-697a-44bf-fff4-0c87e342db65"
      },
      "source": [
        "X"
      ],
      "execution_count": 15,
      "outputs": [
        {
          "output_type": "execute_result",
          "data": {
            "text/plain": [
              "array([[ 0. ],\n",
              "       [ 0.5],\n",
              "       [ 1. ],\n",
              "       [ 1.5],\n",
              "       [ 2. ],\n",
              "       [ 2.5],\n",
              "       [ 3. ],\n",
              "       [ 3.5],\n",
              "       [ 4. ],\n",
              "       [ 4.5],\n",
              "       [ 5. ],\n",
              "       [ 5.5],\n",
              "       [ 6. ],\n",
              "       [ 6.5],\n",
              "       [ 7. ],\n",
              "       [ 7.5],\n",
              "       [ 8. ],\n",
              "       [ 8.5],\n",
              "       [ 9. ],\n",
              "       [ 9.5],\n",
              "       [10. ],\n",
              "       [10.5],\n",
              "       [11. ],\n",
              "       [11.5],\n",
              "       [12. ],\n",
              "       [12.5],\n",
              "       [13. ],\n",
              "       [13.5],\n",
              "       [14. ],\n",
              "       [14.5],\n",
              "       [15. ],\n",
              "       [15.5],\n",
              "       [16. ],\n",
              "       [16.5],\n",
              "       [17. ],\n",
              "       [17.5],\n",
              "       [18. ],\n",
              "       [18.5],\n",
              "       [19. ],\n",
              "       [19.5],\n",
              "       [20. ],\n",
              "       [20.5],\n",
              "       [21. ],\n",
              "       [21.5],\n",
              "       [22. ],\n",
              "       [22.5],\n",
              "       [23. ],\n",
              "       [23.5],\n",
              "       [24. ],\n",
              "       [24.5],\n",
              "       [25. ],\n",
              "       [25.5],\n",
              "       [26. ],\n",
              "       [26.5],\n",
              "       [27. ],\n",
              "       [27.5],\n",
              "       [28. ],\n",
              "       [28.5],\n",
              "       [29. ],\n",
              "       [29.5],\n",
              "       [30. ],\n",
              "       [30.5],\n",
              "       [31. ],\n",
              "       [31.5],\n",
              "       [32. ],\n",
              "       [32.5],\n",
              "       [33. ],\n",
              "       [33.5],\n",
              "       [34. ],\n",
              "       [34.5],\n",
              "       [35. ],\n",
              "       [35.5],\n",
              "       [36. ],\n",
              "       [36.5],\n",
              "       [37. ],\n",
              "       [37.5],\n",
              "       [38. ],\n",
              "       [38.5],\n",
              "       [39. ],\n",
              "       [39.5],\n",
              "       [40. ],\n",
              "       [40.5],\n",
              "       [41. ],\n",
              "       [41.5],\n",
              "       [42. ],\n",
              "       [42.5],\n",
              "       [43. ],\n",
              "       [43.5],\n",
              "       [44. ],\n",
              "       [44.5],\n",
              "       [45. ],\n",
              "       [45.5],\n",
              "       [46. ],\n",
              "       [46.5],\n",
              "       [47. ],\n",
              "       [47.5],\n",
              "       [48. ],\n",
              "       [48.5],\n",
              "       [49. ],\n",
              "       [49.5]])"
            ]
          },
          "metadata": {
            "tags": []
          },
          "execution_count": 15
        }
      ]
    },
    {
      "cell_type": "code",
      "metadata": {
        "id": "qTyeJWjlVq8Y",
        "colab_type": "code",
        "colab": {
          "base_uri": "https://localhost:8080/",
          "height": 50
        },
        "outputId": "f48482f5-f356-4751-da26-edaa80dd8e7c"
      },
      "source": [
        "\n",
        "print('Rozmiar X: ',X.shape )\n",
        "print('Rozmiar y: ',y.shape )"
      ],
      "execution_count": 11,
      "outputs": [
        {
          "output_type": "stream",
          "text": [
            "Rozmiar X:  (100, 1)\n",
            "Rozmiar y:  (100,)\n"
          ],
          "name": "stdout"
        }
      ]
    },
    {
      "cell_type": "code",
      "metadata": {
        "id": "KDQlopVBVtvQ",
        "colab_type": "code",
        "colab": {
          "base_uri": "https://localhost:8080/",
          "height": 84
        },
        "outputId": "3fccb717-1800-4f38-bf7e-9393264f507a"
      },
      "source": [
        "from sklearn.model_selection import train_test_split\n",
        "\n",
        "X_train, X_test, y_train, y_test = train_test_split(X,y,test_size=0.25)\n",
        "\n",
        "print(\"X_train shape: \", X_train.shape)\n",
        "print(\"X_test shape: \", X_test.shape)\n",
        "print(\"y_train shape: \", y_train.shape)\n",
        "print(\"y_test shape: \", y_test.shape)"
      ],
      "execution_count": 16,
      "outputs": [
        {
          "output_type": "stream",
          "text": [
            "X_train shape:  (75, 1)\n",
            "X_test shape:  (25, 1)\n",
            "y_train shape:  (75,)\n",
            "y_test shape:  (25,)\n"
          ],
          "name": "stdout"
        }
      ]
    },
    {
      "cell_type": "code",
      "metadata": {
        "id": "KRCAQepnZ6ad",
        "colab_type": "code",
        "colab": {
          "base_uri": "https://localhost:8080/",
          "height": 358
        },
        "outputId": "973e760a-1aff-4fc8-ffdf-209103a3f8e3"
      },
      "source": [
        "import matplotlib.pyplot as plt\n",
        "import seaborn as sns\n",
        "sns.set()\n",
        "\n",
        "plt.figure(figsize=(7,5))\n",
        "plt.scatter(X_train, y_train, c='b', label=\"Zbiór treningowy\")\n",
        "plt.scatter(X_test,y_test, c='g', label=\"zbiór testowy\")\n",
        "plt.xlabel('X')\n",
        "plt.ylabel('y')\n",
        "plt.legend()"
      ],
      "execution_count": 18,
      "outputs": [
        {
          "output_type": "execute_result",
          "data": {
            "text/plain": [
              "<matplotlib.legend.Legend at 0x7f3edfc3bd68>"
            ]
          },
          "metadata": {
            "tags": []
          },
          "execution_count": 18
        },
        {
          "output_type": "display_data",
          "data": {
            "image/png": "[encoded data removed]",
            "text/plain": [
              "<Figure size 504x360 with 1 Axes>"
            ]
          },
          "metadata": {
            "tags": []
          }
        }
      ]
    },
    {
      "cell_type": "code",
      "metadata": {
        "id": "bw9yK2cNaZfY",
        "colab_type": "code",
        "colab": {
          "base_uri": "https://localhost:8080/",
          "height": 50
        },
        "outputId": "702023c4-d447-4bcb-e49b-f8a9c95922b0"
      },
      "source": [
        "from sklearn.linear_model import LinearRegression\n",
        "\n",
        "lin_reg = LinearRegression()\n",
        "lin_reg.fit(X_train,y_train)\n",
        "\n",
        "print(lin_reg.coef_) #w0\n",
        "print(lin_reg.intercept_) #w1"
      ],
      "execution_count": 21,
      "outputs": [
        {
          "output_type": "stream",
          "text": [
            "[2.01341198]\n",
            "99.51488664120367\n"
          ],
          "name": "stdout"
        }
      ]
    },
    {
      "cell_type": "code",
      "metadata": {
        "id": "in-kirThbLYA",
        "colab_type": "code",
        "colab": {
          "base_uri": "https://localhost:8080/",
          "height": 372
        },
        "outputId": "29b0b587-947c-4d11-891b-2fc2df7a36c2"
      },
      "source": [
        "plt.figure(figsize=(7,5))\n",
        "plt.title('regresja liniowa - 1 zmienna')\n",
        "plt.scatter(X_train, y_train, c='b', label=\"Zbiór treningowy\")\n",
        "plt.plot(X, lin_reg.intercept_ + lin_reg.coef_[0]* X, c='red')\n",
        "plt.xlabel('X')\n",
        "plt.ylabel('y')\n",
        "plt.legend()"
      ],
      "execution_count": 23,
      "outputs": [
        {
          "output_type": "execute_result",
          "data": {
            "text/plain": [
              "<matplotlib.legend.Legend at 0x7f3ed67c4ef0>"
            ]
          },
          "metadata": {
            "tags": []
          },
          "execution_count": 23
        },
        {
          "output_type": "display_data",
          "data": {
            "image/png": "[encoded data removed]",
            "text/plain": [
              "<Figure size 504x360 with 1 Axes>"
            ]
          },
          "metadata": {
            "tags": []
          }
        }
      ]
    },
    {
      "cell_type": "code",
      "metadata": {
        "id": "KBwN_Jlpby8Q",
        "colab_type": "code",
        "colab": {
          "base_uri": "https://localhost:8080/",
          "height": 372
        },
        "outputId": "5d3528d9-9494-44de-b787-56415b1318f7"
      },
      "source": [
        "y_pred = lin_reg.predict(X_test)\n",
        "plt.figure(figsize=(7,5))\n",
        "plt.title('regresja liniowa - 1 zmienna')\n",
        "plt.scatter(X_test, y_test, c='g', label=\"Zbiór testowy\")\n",
        "plt.plot(X, lin_reg.intercept_ + lin_reg.coef_[0]* X, c='red')\n",
        "plt.xlabel('X')\n",
        "plt.ylabel('y')\n",
        "plt.legend()"
      ],
      "execution_count": 24,
      "outputs": [
        {
          "output_type": "execute_result",
          "data": {
            "text/plain": [
              "<matplotlib.legend.Legend at 0x7f3ed67ad320>"
            ]
          },
          "metadata": {
            "tags": []
          },
          "execution_count": 24
        },
        {
          "output_type": "display_data",
          "data": {
            "image/png": "[encoded data removed]",
            "text/plain": [
              "<Figure size 504x360 with 1 Axes>"
            ]
          },
          "metadata": {
            "tags": []
          }
        }
      ]
    },
    {
      "cell_type": "code",
      "metadata": {
        "id": "SvYiHsSDfFhG",
        "colab_type": "code",
        "colab": {
          "base_uri": "https://localhost:8080/",
          "height": 34
        },
        "outputId": "aee2e8e0-b934-4e41-c525-58b52141e5ee"
      },
      "source": [
        "lin_reg.score(X_test,y_test)"
      ],
      "execution_count": 26,
      "outputs": [
        {
          "output_type": "execute_result",
          "data": {
            "text/plain": [
              "0.8990808076611881"
            ]
          },
          "metadata": {
            "tags": []
          },
          "execution_count": 26
        }
      ]
    },
    {
      "cell_type": "code",
      "metadata": {
        "id": "wMhMd2l3febh",
        "colab_type": "code",
        "colab": {}
      },
      "source": [
        ""
      ],
      "execution_count": null,
      "outputs": []
    }
  ]
}