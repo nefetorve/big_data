{
  "nbformat": 4,
  "nbformat_minor": 0,
  "metadata": {
    "colab": {
      "name": "drzewa_decyzyjne.ipynb",
      "provenance": [],
      "authorship_tag": "ABX9TyNIyqOhPC3Vkyik3tLETVuN",
      "include_colab_link": true
    },
    "kernelspec": {
      "name": "python3",
      "display_name": "Python 3"
    }
  },
  "cells": [
    {
      "cell_type": "markdown",
      "metadata": {
        "id": "view-in-github",
        "colab_type": "text"
      },
      "source": [
        "<a href=\"https://colab.research.google.com/github/nefetorve/big_data/blob/master/06_uczenie_maszynowe/drzewa_decyzyjne.ipynb\" target=\"_parent\"><img src=\"https://colab.research.google.com/assets/colab-badge.svg\" alt=\"Open In Colab\"/></a>"
      ]
    },
    {
      "cell_type": "code",
      "metadata": {
        "id": "0LNH3artMQN4",
        "colab_type": "code",
        "colab": {
          "base_uri": "https://localhost:8080/",
          "height": 70
        },
        "outputId": "a764689f-26b9-4b9e-ea0a-b2a7b9c2e758"
      },
      "source": [
        "import numpy as np\n",
        "import pandas as pd\n",
        "import matplotlib.pyplot as plt\n",
        "import seaborn as sns\n",
        "from sklearn.datasets import load_iris \n",
        "from IPython.display import Image\n",
        "sns.set()\n",
        "np.random.seed(10)"
      ],
      "execution_count": 1,
      "outputs": [
        {
          "output_type": "stream",
          "text": [
            "/usr/local/lib/python3.6/dist-packages/statsmodels/tools/_testing.py:19: FutureWarning: pandas.util.testing is deprecated. Use the functions in the public API at pandas.testing instead.\n",
            "  import pandas.util.testing as tm\n"
          ],
          "name": "stderr"
        }
      ]
    },
    {
      "cell_type": "code",
      "metadata": {
        "id": "2K6jx8VSMS3z",
        "colab_type": "code",
        "colab": {
          "base_uri": "https://localhost:8080/",
          "height": 84
        },
        "outputId": "0fccd63d-093e-4ffc-bca4-5b22a06eb755"
      },
      "source": [
        "iris = load_iris()\n",
        "data = iris.data \n",
        "targets = iris.target\n",
        "feature_names = [name.replace(' ', '_')[:-5] for name in iris.feature_names]\n",
        "class_names = iris.target_names\n",
        "\n",
        "print(f'Liczba próbek:  {len(data)}')\n",
        "print(f'Kształt danych: {data.shape}')\n",
        "print(f'Nazwy zmiennych objaśniających {feature_names}')\n",
        "print(f'Nazwy kategorii kosaćca: {class_names}')"
      ],
      "execution_count": 2,
      "outputs": [
        {
          "output_type": "stream",
          "text": [
            "Liczba próbek:  150\n",
            "Kształt danych: (150, 4)\n",
            "Nazwy zmiennych objaśniających ['sepal_length', 'sepal_width', 'petal_length', 'petal_width']\n",
            "Nazwy kategorii kosaćca: ['setosa' 'versicolor' 'virginica']\n"
          ],
          "name": "stdout"
        }
      ]
    },
    {
      "cell_type": "code",
      "metadata": {
        "id": "scbRbiv0Nvyu",
        "colab_type": "code",
        "colab": {}
      },
      "source": [
        ""
      ],
      "execution_count": null,
      "outputs": []
    }
  ]
}