{
  "nbformat": 4,
  "nbformat_minor": 0,
  "metadata": {
    "colab": {
      "name": "021-030_exercises.ipynb",
      "provenance": [],
      "collapsed_sections": [],
      "include_colab_link": true
    },
    "kernelspec": {
      "name": "python3",
      "display_name": "Python 3"
    }
  },
  "cells": [
    {
      "cell_type": "markdown",
      "metadata": {
        "id": "view-in-github",
        "colab_type": "text"
      },
      "source": [
        "<a href=\"https://colab.research.google.com/github/nefetorve/big_data/blob/master/021_030_exercises.ipynb\" target=\"_parent\"><img src=\"https://colab.research.google.com/assets/colab-badge.svg\" alt=\"Open In Colab\"/></a>"
      ]
    },
    {
      "cell_type": "markdown",
      "metadata": {
        "id": "WLEgCW5F1hho",
        "colab_type": "text"
      },
      "source": [
        "## Numpy\n",
        "\n",
        "### Spis treści:\n",
        "* [Import biblioteki](#0)\n",
        "* [Ćwiczenie 21](#1)\n",
        "* [Ćwiczenie 22](#2)\n",
        "* [Ćwiczenie 23](#3)\n",
        "* [Ćwiczenie 24](#4)\n",
        "* [Ćwiczenie 25](#5)\n",
        "* [Ćwiczenie 26](#6)\n",
        "* [Ćwiczenie 27](#7)\n",
        "* [Ćwiczenie 28](#8)\n",
        "* [Ćwiczenie 29](#9)\n",
        "* [Ćwiczenie 30](#10)"
      ]
    },
    {
      "cell_type": "markdown",
      "metadata": {
        "id": "zeLOLmTj1kBM",
        "colab_type": "text"
      },
      "source": [
        "### <a name='0'></a>Import biblioteki"
      ]
    },
    {
      "cell_type": "code",
      "metadata": {
        "id": "HXMB7SMe1Wnz",
        "colab_type": "code",
        "colab": {
          "base_uri": "https://localhost:8080/",
          "height": 35
        },
        "outputId": "94e1c242-b0c5-492b-b971-ca05fe5847f8"
      },
      "source": [
        "import numpy as np\n",
        "\n",
        "np.__version__"
      ],
      "execution_count": 180,
      "outputs": [
        {
          "output_type": "execute_result",
          "data": {
            "application/vnd.google.colaboratory.intrinsic+json": {
              "type": "string"
            },
            "text/plain": [
              "'1.18.5'"
            ]
          },
          "metadata": {
            "tags": []
          },
          "execution_count": 180
        }
      ]
    },
    {
      "cell_type": "markdown",
      "metadata": {
        "id": "cyc70pMe1oCg",
        "colab_type": "text"
      },
      "source": [
        "### <a name='1'></a> Ćwiczenie 21\n",
        "Wygeneruj poniższą tablicę numpy. Zapisz tablicę do pliku bianarnego o nazwie _'array.npy'_ i następnie wczytaj z powrotem ten plik do innej zmiennej.\n",
        "\n",
        "\n",
        "```\n",
        "array([[ 0,  1,  2,  3],\n",
        "       [ 4,  5,  6,  7],\n",
        "       [ 8,  9, 10, 11]])\n",
        "```\n",
        "\n",
        "\n",
        "__Wskazówka:__ Użyj funkcji _np.save()_ oraz _np.load()_."
      ]
    },
    {
      "cell_type": "code",
      "metadata": {
        "id": "MhvZKgtPKAOF",
        "colab_type": "code",
        "colab": {}
      },
      "source": [
        "A = np.arange(12).reshape(3,-1)\n",
        "np.save('array.npy', A)"
      ],
      "execution_count": 181,
      "outputs": []
    },
    {
      "cell_type": "code",
      "metadata": {
        "id": "oYuXpM6tVk0M",
        "colab_type": "code",
        "colab": {
          "base_uri": "https://localhost:8080/",
          "height": 68
        },
        "outputId": "8a1d263e-dfa7-4967-8d26-9b750c03801c"
      },
      "source": [
        "np.load('array.npy')"
      ],
      "execution_count": 182,
      "outputs": [
        {
          "output_type": "execute_result",
          "data": {
            "text/plain": [
              "array([[ 0,  1,  2,  3],\n",
              "       [ 4,  5,  6,  7],\n",
              "       [ 8,  9, 10, 11]])"
            ]
          },
          "metadata": {
            "tags": []
          },
          "execution_count": 182
        }
      ]
    },
    {
      "cell_type": "markdown",
      "metadata": {
        "id": "J9pY1rtr1sC0",
        "colab_type": "text"
      },
      "source": [
        "### <a name='2'></a> Ćwiczenie 22\n",
        "Wygeneruj ponizszą tablicę numpy:\n",
        "\n",
        "\n",
        "```\n",
        "array([[ 0,  1,  2,  3],\n",
        "       [ 4,  5,  6,  7],\n",
        "       [ 8,  9, 10, 11]])\n",
        "```\n",
        "\n",
        "\n",
        "Zapisz tablicę do pliku tekstowego o nazwie _'array.txt'_ z dokładnością do drugiego miejsca po przecinku i następnie wczytaj z powrotem ten plik do innej zmiennej.\n",
        "\n",
        "__Wskazówka:__ Użyj funkcji _np.savetxt()_ oraz _np.loadtxt()_.\n"
      ]
    },
    {
      "cell_type": "code",
      "metadata": {
        "id": "Ac7M7bDhLAlf",
        "colab_type": "code",
        "colab": {}
      },
      "source": [
        "A = np.arange(12).reshape(3,-1)\n",
        "np.savetxt('array.txt',A,fmt='%1.2f')"
      ],
      "execution_count": 183,
      "outputs": []
    },
    {
      "cell_type": "code",
      "metadata": {
        "id": "baSUhEz6WaFk",
        "colab_type": "code",
        "colab": {
          "base_uri": "https://localhost:8080/",
          "height": 68
        },
        "outputId": "1b46c17c-f955-49d7-8d89-cf342f1fd62d"
      },
      "source": [
        "np.loadtxt('array.txt')"
      ],
      "execution_count": 184,
      "outputs": [
        {
          "output_type": "execute_result",
          "data": {
            "text/plain": [
              "array([[ 0.,  1.,  2.,  3.],\n",
              "       [ 4.,  5.,  6.,  7.],\n",
              "       [ 8.,  9., 10., 11.]])"
            ]
          },
          "metadata": {
            "tags": []
          },
          "execution_count": 184
        }
      ]
    },
    {
      "cell_type": "markdown",
      "metadata": {
        "id": "XQLYT2m11wVG",
        "colab_type": "text"
      },
      "source": [
        "### <a name='3'></a> Ćwiczenie 23\n",
        "Wygeneruj i przekształć poniższą tablicę numpy na listę.\n",
        "\n",
        "\n",
        "```\n",
        "array([[ 0,  1,  2,  3],\n",
        "       [ 4,  5,  6,  7],\n",
        "       [ 8,  9, 10, 11]])\n",
        "```\n",
        "\n",
        "\n",
        "\n",
        "__Wskazówka:__ Użyj metody _np.array.tolist()_."
      ]
    },
    {
      "cell_type": "code",
      "metadata": {
        "id": "Dtu-EJViT1Os",
        "colab_type": "code",
        "colab": {
          "base_uri": "https://localhost:8080/",
          "height": 34
        },
        "outputId": "0ed4043a-d1c4-4844-ee14-b4463d8a5e52"
      },
      "source": [
        "A = np.arange(12).reshape(3,-1)\n",
        "A.tolist()"
      ],
      "execution_count": 185,
      "outputs": [
        {
          "output_type": "execute_result",
          "data": {
            "text/plain": [
              "[[0, 1, 2, 3], [4, 5, 6, 7], [8, 9, 10, 11]]"
            ]
          },
          "metadata": {
            "tags": []
          },
          "execution_count": 185
        }
      ]
    },
    {
      "cell_type": "markdown",
      "metadata": {
        "id": "4xTKSUzg10MK",
        "colab_type": "text"
      },
      "source": [
        "### <a name='4'></a> Ćwiczenie 24\n",
        "Podana jest poniższa tablica numpy:\n",
        "\n",
        "```\n",
        "array([[ 0,  1,  2,  3],\n",
        "       [ 4,  5,  6,  7],\n",
        "       [ 8,  9, 10, 11]])\n",
        "```\n",
        "Używając operatora wycinania przekształć tablicę w poniższe:\n",
        "\n",
        "* zamiana wierszy (pierwszy z ostatnim)\n",
        "\n",
        "```\n",
        "array([[ 8,  9, 10, 11],\n",
        "       [ 4,  5,  6,  7],\n",
        "       [ 0,  1,  2,  3]])\n",
        "```\n",
        "\n",
        "\n",
        "\n",
        "\n",
        "\n"
      ]
    },
    {
      "cell_type": "code",
      "metadata": {
        "id": "1iqUDmG3V7sM",
        "colab_type": "code",
        "colab": {
          "base_uri": "https://localhost:8080/",
          "height": 68
        },
        "outputId": "13caaf02-677e-48d7-9218-ff93c2e8616a"
      },
      "source": [
        "A[::-1]"
      ],
      "execution_count": 250,
      "outputs": [
        {
          "output_type": "execute_result",
          "data": {
            "text/plain": [
              "array([[ 8,  9, 10, 11],\n",
              "       [ 4,  5,  6,  7],\n",
              "       [ 0,  1,  2,  3]])"
            ]
          },
          "metadata": {
            "tags": []
          },
          "execution_count": 250
        }
      ]
    },
    {
      "cell_type": "code",
      "metadata": {
        "id": "k3L9hPFKexf7",
        "colab_type": "code",
        "colab": {}
      },
      "source": [
        "B = A.copy()"
      ],
      "execution_count": 187,
      "outputs": []
    },
    {
      "cell_type": "code",
      "metadata": {
        "id": "J8-4n5mSYV7e",
        "colab_type": "code",
        "colab": {}
      },
      "source": [
        "wiersz0 = A[0] "
      ],
      "execution_count": 188,
      "outputs": []
    },
    {
      "cell_type": "code",
      "metadata": {
        "id": "_NiV0SWAYhBi",
        "colab_type": "code",
        "colab": {}
      },
      "source": [
        "wiersz3 = A[-1]"
      ],
      "execution_count": 189,
      "outputs": []
    },
    {
      "cell_type": "code",
      "metadata": {
        "id": "a0cLVM2zZRgU",
        "colab_type": "code",
        "colab": {}
      },
      "source": [
        "B[0] = wiersz3"
      ],
      "execution_count": 190,
      "outputs": []
    },
    {
      "cell_type": "code",
      "metadata": {
        "id": "mW9odGWzZSRr",
        "colab_type": "code",
        "colab": {
          "base_uri": "https://localhost:8080/",
          "height": 51
        },
        "outputId": "5143892c-0fb8-4cee-d87d-9cad4843297f"
      },
      "source": [
        "B[-1] = wiersz0\n",
        "B"
      ],
      "execution_count": 253,
      "outputs": [
        {
          "output_type": "execute_result",
          "data": {
            "text/plain": [
              "array([[ 9, 10, 11,  3],\n",
              "       [ 0,  1,  2,  3]])"
            ]
          },
          "metadata": {
            "tags": []
          },
          "execution_count": 253
        }
      ]
    },
    {
      "cell_type": "code",
      "metadata": {
        "id": "G3d1lB7nkdmw",
        "colab_type": "code",
        "colab": {}
      },
      "source": [
        ""
      ],
      "execution_count": 256,
      "outputs": []
    },
    {
      "cell_type": "markdown",
      "metadata": {
        "id": "QwFXH2dIEhMp",
        "colab_type": "text"
      },
      "source": [
        "* zamiana kolumn (odwrócona kolejność)\n",
        "\n",
        "\n",
        "```\n",
        "array([[ 3,  2,  1,  0],\n",
        "       [ 7,  6,  5,  4],\n",
        "       [11, 10,  9,  8]])\n",
        "```\n"
      ]
    },
    {
      "cell_type": "code",
      "metadata": {
        "id": "dux6cn8YV-q_",
        "colab_type": "code",
        "colab": {
          "base_uri": "https://localhost:8080/",
          "height": 68
        },
        "outputId": "7655792a-2b37-4d43-f904-4ee1cf7c4b8a"
      },
      "source": [
        "A[:,::-1]"
      ],
      "execution_count": 268,
      "outputs": [
        {
          "output_type": "execute_result",
          "data": {
            "text/plain": [
              "array([[ 3,  2,  1,  0],\n",
              "       [ 7,  6,  5,  4],\n",
              "       [11, 10,  9,  8]])"
            ]
          },
          "metadata": {
            "tags": []
          },
          "execution_count": 268
        }
      ]
    },
    {
      "cell_type": "markdown",
      "metadata": {
        "id": "i5mm0dexEoDe",
        "colab_type": "text"
      },
      "source": [
        "* zamiana wierszy i kolumn (odwrócone kolejności)\n",
        "\n",
        "\n",
        "```\n",
        "array([[11, 10,  9,  8],\n",
        "       [ 7,  6,  5,  4],\n",
        "       [ 3,  2,  1,  0]])\n",
        "```       "
      ]
    },
    {
      "cell_type": "code",
      "metadata": {
        "id": "ZqkvfYoKWHLp",
        "colab_type": "code",
        "colab": {
          "base_uri": "https://localhost:8080/",
          "height": 68
        },
        "outputId": "4b418a74-a7b8-444c-fb5d-8c02c4dca670"
      },
      "source": [
        "A[::-1,::-1]"
      ],
      "execution_count": 269,
      "outputs": [
        {
          "output_type": "execute_result",
          "data": {
            "text/plain": [
              "array([[11, 10,  9,  8],\n",
              "       [ 7,  6,  5,  4],\n",
              "       [ 3,  2,  1,  0]])"
            ]
          },
          "metadata": {
            "tags": []
          },
          "execution_count": 269
        }
      ]
    },
    {
      "cell_type": "markdown",
      "metadata": {
        "id": "o3HKIKlP15Ro",
        "colab_type": "text"
      },
      "source": [
        "### <a name='5'></a> Ćwiczenie 25\n",
        "Podaną poniżej tablicę numpy:\n",
        "\n",
        "```\n",
        "array([[1., 1., 1., 1.],\n",
        "       [1., 1., 1., 1.],\n",
        "       [1., 1., 1., 1.],\n",
        "       [1., 1., 1., 1.]])\n",
        "```\n",
        "Przekształć na tablicę:\n",
        "\n",
        "\n",
        "```\n",
        "array([[0., 0., 0., 0., 0., 0.],\n",
        "       [0., 1., 1., 1., 1., 0.],\n",
        "       [0., 1., 1., 1., 1., 0.],\n",
        "       [0., 1., 1., 1., 1., 0.],\n",
        "       [0., 1., 1., 1., 1., 0.],\n",
        "       [0., 0., 0., 0., 0., 0.]])\n",
        "```\n",
        "__Wskazówka:__ Użyj funkcji _np.pad()_.\n",
        "\n",
        "\n",
        "\n"
      ]
    },
    {
      "cell_type": "code",
      "metadata": {
        "id": "enLY_Qz4qGdJ",
        "colab_type": "code",
        "colab": {
          "base_uri": "https://localhost:8080/",
          "height": 119
        },
        "outputId": "17e21717-badf-402e-d190-b92c72554d6a"
      },
      "source": [
        "np.pad(np.ones((4,4)),1)"
      ],
      "execution_count": 196,
      "outputs": [
        {
          "output_type": "execute_result",
          "data": {
            "text/plain": [
              "array([[0., 0., 0., 0., 0., 0.],\n",
              "       [0., 1., 1., 1., 1., 0.],\n",
              "       [0., 1., 1., 1., 1., 0.],\n",
              "       [0., 1., 1., 1., 1., 0.],\n",
              "       [0., 1., 1., 1., 1., 0.],\n",
              "       [0., 0., 0., 0., 0., 0.]])"
            ]
          },
          "metadata": {
            "tags": []
          },
          "execution_count": 196
        }
      ]
    },
    {
      "cell_type": "markdown",
      "metadata": {
        "id": "PunXd_Ey16so",
        "colab_type": "text"
      },
      "source": [
        "### <a name='6'></a> Ćwiczenie 26\n",
        "Podaną poniżej tablicę numpy:\n",
        "\n",
        "```\n",
        "array([[0, 0, 0, 0, 0, 0],\n",
        "       [0, 0, 0, 0, 0, 0],\n",
        "       [0, 0, 0, 0, 0, 0],\n",
        "       [0, 0, 0, 0, 0, 0],\n",
        "       [0, 0, 0, 0, 0, 0],\n",
        "       [0, 0, 0, 0, 0, 0]])\n",
        "```\n",
        "Przekształć na tablicę:\n",
        "\n",
        "\n",
        "```\n",
        "array([[10,  0, 10,  0, 10,  0],\n",
        "       [ 5,  0,  5,  0,  5,  0],\n",
        "       [10,  0, 10,  0, 10,  0],\n",
        "       [ 5,  0,  5,  0,  5,  0],\n",
        "       [10,  0, 10,  0, 10,  0],\n",
        "       [ 5,  0,  5,  0,  5,  0]])\n",
        "```\n",
        "__Wskazówka:__ Użyj operatora wycinania oraz przypisz odpowiednie wartości.\n",
        "\n",
        "\n",
        "\n"
      ]
    },
    {
      "cell_type": "code",
      "metadata": {
        "id": "xOVKpjvMr7bX",
        "colab_type": "code",
        "colab": {}
      },
      "source": [
        "A = np.zeros((6,6))"
      ],
      "execution_count": 197,
      "outputs": []
    },
    {
      "cell_type": "code",
      "metadata": {
        "id": "qNPh3FAYaQA9",
        "colab_type": "code",
        "colab": {
          "base_uri": "https://localhost:8080/",
          "height": 119
        },
        "outputId": "998f8f08-7577-4614-f219-0e153785b9a9"
      },
      "source": [
        "for i in  range(0, 6, 2):\n",
        "  A[i,:] = [10,0,10,0,10,0]\n",
        "for i in  range(1, 5, 2):\n",
        "  A[i,:] = [5,0,5,0,5,0]\n",
        "\n",
        "A"
      ],
      "execution_count": 198,
      "outputs": [
        {
          "output_type": "execute_result",
          "data": {
            "text/plain": [
              "array([[10.,  0., 10.,  0., 10.,  0.],\n",
              "       [ 5.,  0.,  5.,  0.,  5.,  0.],\n",
              "       [10.,  0., 10.,  0., 10.,  0.],\n",
              "       [ 5.,  0.,  5.,  0.,  5.,  0.],\n",
              "       [10.,  0., 10.,  0., 10.,  0.],\n",
              "       [ 0.,  0.,  0.,  0.,  0.,  0.]])"
            ]
          },
          "metadata": {
            "tags": []
          },
          "execution_count": 198
        }
      ]
    },
    {
      "cell_type": "markdown",
      "metadata": {
        "id": "hOhqDRz618Tx",
        "colab_type": "text"
      },
      "source": [
        "### <a name='7'></a> Ćwiczenie 27\n",
        "Połącz podane poniżej tablice $A$ oraz $B$ w jedną.\n",
        "\n",
        "\n",
        "```\n",
        "A = np.arange(12).reshape(-1, 4)\n",
        "B = np.array([[4, 3, 7, 2],\n",
        "              [0, 5, 2, 6]])\n",
        "```\n",
        "\n",
        "\n",
        "\n",
        "\n",
        "__Oczekiwany rezultat:__\n",
        "\n",
        "\n",
        "```\n",
        "array([[ 0,  1,  2,  3],\n",
        "       [ 4,  5,  6,  7],\n",
        "       [ 8,  9, 10, 11],\n",
        "       [ 4,  3,  7,  2],\n",
        "       [ 0,  5,  2,  6]])\n",
        "```\n",
        "__Wskazówka:__ Użyj funkcji _np.append()_.\n"
      ]
    },
    {
      "cell_type": "code",
      "metadata": {
        "id": "CCHfKU4Y3Z-X",
        "colab_type": "code",
        "colab": {
          "base_uri": "https://localhost:8080/",
          "height": 102
        },
        "outputId": "68951abc-28f0-4e24-ae30-464d55e2f25b"
      },
      "source": [
        "A = np.arange(12).reshape(-1, 4)\n",
        "B = np.array([[4, 3, 7, 2],\n",
        "              [0, 5, 2, 6]])\n",
        "\n",
        "\n",
        "np.append(A,B).reshape(-1,4)"
      ],
      "execution_count": 199,
      "outputs": [
        {
          "output_type": "execute_result",
          "data": {
            "text/plain": [
              "array([[ 0,  1,  2,  3],\n",
              "       [ 4,  5,  6,  7],\n",
              "       [ 8,  9, 10, 11],\n",
              "       [ 4,  3,  7,  2],\n",
              "       [ 0,  5,  2,  6]])"
            ]
          },
          "metadata": {
            "tags": []
          },
          "execution_count": 199
        }
      ]
    },
    {
      "cell_type": "markdown",
      "metadata": {
        "id": "TXUd_4631-gw",
        "colab_type": "text"
      },
      "source": [
        "### <a name='8'></a> Ćwiczenie 28\n",
        "Z podanych poniżej tablic $A$ i $B$ wydobądź elementy wspólne (przecięcie) tablic.\n",
        "\n",
        "```\n",
        "A = np.arange(8).reshape(-1, 4)\n",
        "B = np.array([[9, 10, 11, 3],\n",
        "              [2, 8, 0, 9]])      \n",
        "```\n",
        "\n",
        "\n",
        "\n",
        "__Wskazówka:__ Użyj funkcji _np.intersect1d()_."
      ]
    },
    {
      "cell_type": "code",
      "metadata": {
        "id": "pgvyad4UCI6Q",
        "colab_type": "code",
        "colab": {
          "base_uri": "https://localhost:8080/",
          "height": 34
        },
        "outputId": "1aa7085d-62b5-4ba9-9a7c-3bef8d8d9921"
      },
      "source": [
        "A = np.arange(8).reshape(-1, 4)\n",
        "B = np.array([[9, 10, 11, 3],\n",
        "              [2, 8, 0, 9]])      \n",
        "\n",
        "\n",
        "np.intersect1d(A,B)"
      ],
      "execution_count": 200,
      "outputs": [
        {
          "output_type": "execute_result",
          "data": {
            "text/plain": [
              "array([0, 2, 3])"
            ]
          },
          "metadata": {
            "tags": []
          },
          "execution_count": 200
        }
      ]
    },
    {
      "cell_type": "markdown",
      "metadata": {
        "id": "tgI6xEn-2AQo",
        "colab_type": "text"
      },
      "source": [
        "### <a name='9'></a> Ćwiczenie 29\n",
        "Podana jest poniższa tablica numpy $A$.\n",
        "Znajdź unikalne wartości tej tablicy.\n",
        "\n",
        "\n",
        "```\n",
        "A = np.array([[5, 1, 2, 1, 2],\n",
        "              [9, 1, 9, 7, 5],\n",
        "              [4, 1, 5, 7, 9]])\n",
        "```\n",
        "\n",
        "\n",
        "__Wskazówka:__ Użyj funkcji _np.unique()_."
      ]
    },
    {
      "cell_type": "code",
      "metadata": {
        "id": "h3Q6RADIELkH",
        "colab_type": "code",
        "colab": {
          "base_uri": "https://localhost:8080/",
          "height": 34
        },
        "outputId": "b9751532-a042-4d88-824f-1a0477180de8"
      },
      "source": [
        "A = np.array([[5, 1, 2, 1, 2],\n",
        "              [9, 1, 9, 7, 5],\n",
        "              [4, 1, 5, 7, 9]])\n",
        "np.unique(A)"
      ],
      "execution_count": 201,
      "outputs": [
        {
          "output_type": "execute_result",
          "data": {
            "text/plain": [
              "array([1, 2, 4, 5, 7, 9])"
            ]
          },
          "metadata": {
            "tags": []
          },
          "execution_count": 201
        }
      ]
    },
    {
      "cell_type": "markdown",
      "metadata": {
        "id": "wxhpf-uq2B1I",
        "colab_type": "text"
      },
      "source": [
        "### <a name='10'></a> Ćwiczenie 30\n",
        "Podana jest poniższa tablica:\n",
        "\n",
        "\n",
        "```\n",
        "A = np.array([[0.4, 0.3, 0.3],\n",
        "              [0.1, 0.1, 0.8],\n",
        "              [0.2, 0.5, 0.3]])\n",
        "```\n",
        "\n",
        "\n",
        "\n",
        "Zwróć indeksy na których stoją maksymalne wartości dla danego wiersza.\n",
        "\n",
        "__Wskazówka:__ Użyj funkcji _np.argmax()_."
      ]
    },
    {
      "cell_type": "code",
      "metadata": {
        "id": "YcQFRYUyFWbY",
        "colab_type": "code",
        "colab": {
          "base_uri": "https://localhost:8080/",
          "height": 34
        },
        "outputId": "e7444f70-a292-4821-fcd3-28d4700530fd"
      },
      "source": [
        "A = np.array([[0.4, 0.3, 0.3],\n",
        "              [0.1, 0.1, 0.8],\n",
        "              [0.2, 0.5, 0.3]])\n",
        "\n",
        "np.argmax(A,0)"
      ],
      "execution_count": 202,
      "outputs": [
        {
          "output_type": "execute_result",
          "data": {
            "text/plain": [
              "array([0, 2, 1])"
            ]
          },
          "metadata": {
            "tags": []
          },
          "execution_count": 202
        }
      ]
    },
    {
      "cell_type": "code",
      "metadata": {
        "id": "lnQB90zjdPEt",
        "colab_type": "code",
        "colab": {}
      },
      "source": [
        ""
      ],
      "execution_count": 202,
      "outputs": []
    }
  ]
}